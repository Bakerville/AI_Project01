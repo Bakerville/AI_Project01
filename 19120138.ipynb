{
 "cells": [
  {
   "cell_type": "code",
   "execution_count": 5,
   "id": "d5a8427b",
   "metadata": {},
   "outputs": [],
   "source": [
    "import numpy as np"
   ]
  },
  {
   "cell_type": "code",
   "execution_count": 8,
   "id": "ce072e59",
   "metadata": {},
   "outputs": [],
   "source": [
    "def multiple(matrix1, matrix2):\n",
    "    if(matrix1.shape[1]!=matrix2.shape[0]):\n",
    "        return\n",
    "    else:\n",
    "        result = []\n",
    "        for i in range(matrix1.shape[0]):\n",
    "            line = []\n",
    "            for j in range(matrix2.shape[1]):\n",
    "                element = 0\n",
    "                for k in range(matrix1.shape[1]):\n",
    "                    element = element+ matrix1[i][k]*matrix2[k][j]\n",
    "                line.append(element)\n",
    "            result.append(line)\n",
    "        result = np.array(result)\n",
    "        return result"
   ]
  },
  {
   "cell_type": "code",
   "execution_count": 9,
   "id": "91954ae4",
   "metadata": {},
   "outputs": [
    {
     "name": "stdout",
     "output_type": "stream",
     "text": [
      "[[1 2]\n",
      " [2 3]]\n"
     ]
    }
   ],
   "source": [
    "v1 = np.array([[0,1],[1,1]])\n",
    "v2 = np.array([[1,1],[1,2]])\n",
    "print(multiple(v1,v2))"
   ]
  }
 ],
 "metadata": {
  "kernelspec": {
   "display_name": "Python 3 (ipykernel)",
   "language": "python",
   "name": "python3"
  },
  "language_info": {
   "codemirror_mode": {
    "name": "ipython",
    "version": 3
   },
   "file_extension": ".py",
   "mimetype": "text/x-python",
   "name": "python",
   "nbconvert_exporter": "python",
   "pygments_lexer": "ipython3",
   "version": "3.8.8"
  }
 },
 "nbformat": 4,
 "nbformat_minor": 5
}
